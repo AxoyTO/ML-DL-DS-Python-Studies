{
 "cells": [
  {
   "cell_type": "code",
   "execution_count": 11,
   "id": "8e0a6885-f56b-4771-b554-6ec515d161aa",
   "metadata": {},
   "outputs": [],
   "source": [
    "# importing necessary libraries for our work\n",
    "import pandas as pd\n",
    "import numpy as np\n",
    "import seaborn as sns\n",
    "import matplotlib as plt"
   ]
  },
  {
   "cell_type": "code",
   "execution_count": 149,
   "id": "bd9e3d4f-1dce-49c3-98b2-35ac91edc8c4",
   "metadata": {},
   "outputs": [],
   "source": [
    "# reading amazon prime dataset from csv file into our data variable\n",
    "data = pd.read_csv(\"amazon_prime_titles.csv\")"
   ]
  },
  {
   "cell_type": "code",
   "execution_count": 16,
   "id": "9a3b6141-e0b5-409f-95c8-df1cbf0378e2",
   "metadata": {},
   "outputs": [
    {
     "data": {
      "text/html": [
       "<div>\n",
       "<style scoped>\n",
       "    .dataframe tbody tr th:only-of-type {\n",
       "        vertical-align: middle;\n",
       "    }\n",
       "\n",
       "    .dataframe tbody tr th {\n",
       "        vertical-align: top;\n",
       "    }\n",
       "\n",
       "    .dataframe thead th {\n",
       "        text-align: right;\n",
       "    }\n",
       "</style>\n",
       "<table border=\"1\" class=\"dataframe\">\n",
       "  <thead>\n",
       "    <tr style=\"text-align: right;\">\n",
       "      <th></th>\n",
       "      <th>show_id</th>\n",
       "      <th>type</th>\n",
       "      <th>title</th>\n",
       "      <th>director</th>\n",
       "      <th>cast</th>\n",
       "      <th>country</th>\n",
       "      <th>date_added</th>\n",
       "      <th>release_year</th>\n",
       "      <th>rating</th>\n",
       "      <th>duration</th>\n",
       "      <th>listed_in</th>\n",
       "      <th>description</th>\n",
       "    </tr>\n",
       "  </thead>\n",
       "  <tbody>\n",
       "    <tr>\n",
       "      <th>9663</th>\n",
       "      <td>s9664</td>\n",
       "      <td>Movie</td>\n",
       "      <td>Pride Of The Bowery</td>\n",
       "      <td>Joseph H. Lewis</td>\n",
       "      <td>Leo Gorcey, Bobby Jordan</td>\n",
       "      <td>NaN</td>\n",
       "      <td>NaN</td>\n",
       "      <td>1940</td>\n",
       "      <td>7+</td>\n",
       "      <td>60 min</td>\n",
       "      <td>Comedy</td>\n",
       "      <td>New York City street principles get an East Si...</td>\n",
       "    </tr>\n",
       "    <tr>\n",
       "      <th>9664</th>\n",
       "      <td>s9665</td>\n",
       "      <td>TV Show</td>\n",
       "      <td>Planet Patrol</td>\n",
       "      <td>NaN</td>\n",
       "      <td>DICK VOSBURGH, RONNIE STEVENS, LIBBY MORRIS, M...</td>\n",
       "      <td>NaN</td>\n",
       "      <td>NaN</td>\n",
       "      <td>2018</td>\n",
       "      <td>13+</td>\n",
       "      <td>4 Seasons</td>\n",
       "      <td>TV Shows</td>\n",
       "      <td>This is Earth, 2100AD - and these are the adve...</td>\n",
       "    </tr>\n",
       "    <tr>\n",
       "      <th>9665</th>\n",
       "      <td>s9666</td>\n",
       "      <td>Movie</td>\n",
       "      <td>Outpost</td>\n",
       "      <td>Steve Barker</td>\n",
       "      <td>Ray Stevenson, Julian Wadham, Richard Brake, M...</td>\n",
       "      <td>NaN</td>\n",
       "      <td>NaN</td>\n",
       "      <td>2008</td>\n",
       "      <td>R</td>\n",
       "      <td>90 min</td>\n",
       "      <td>Action</td>\n",
       "      <td>In war-torn Eastern Europe, a world-weary grou...</td>\n",
       "    </tr>\n",
       "    <tr>\n",
       "      <th>9666</th>\n",
       "      <td>s9667</td>\n",
       "      <td>TV Show</td>\n",
       "      <td>Maradona: Blessed Dream</td>\n",
       "      <td>NaN</td>\n",
       "      <td>Esteban Recagno, Ezequiel Stremiz, Luciano Vit...</td>\n",
       "      <td>NaN</td>\n",
       "      <td>NaN</td>\n",
       "      <td>2021</td>\n",
       "      <td>TV-MA</td>\n",
       "      <td>1 Season</td>\n",
       "      <td>Drama, Sports</td>\n",
       "      <td>The series tells the story of Diego Maradona, ...</td>\n",
       "    </tr>\n",
       "    <tr>\n",
       "      <th>9667</th>\n",
       "      <td>s9668</td>\n",
       "      <td>Movie</td>\n",
       "      <td>Harry Brown</td>\n",
       "      <td>Daniel Barber</td>\n",
       "      <td>Michael Caine, Emily Mortimer, Joseph Gilgun, ...</td>\n",
       "      <td>NaN</td>\n",
       "      <td>NaN</td>\n",
       "      <td>2010</td>\n",
       "      <td>R</td>\n",
       "      <td>103 min</td>\n",
       "      <td>Action, Drama, Suspense</td>\n",
       "      <td>Harry Brown, starring two-time Academy Award w...</td>\n",
       "    </tr>\n",
       "  </tbody>\n",
       "</table>\n",
       "</div>"
      ],
      "text/plain": [
       "     show_id     type                    title         director  \\\n",
       "9663   s9664    Movie      Pride Of The Bowery  Joseph H. Lewis   \n",
       "9664   s9665  TV Show            Planet Patrol              NaN   \n",
       "9665   s9666    Movie                  Outpost     Steve Barker   \n",
       "9666   s9667  TV Show  Maradona: Blessed Dream              NaN   \n",
       "9667   s9668    Movie              Harry Brown    Daniel Barber   \n",
       "\n",
       "                                                   cast country date_added  \\\n",
       "9663                           Leo Gorcey, Bobby Jordan     NaN        NaN   \n",
       "9664  DICK VOSBURGH, RONNIE STEVENS, LIBBY MORRIS, M...     NaN        NaN   \n",
       "9665  Ray Stevenson, Julian Wadham, Richard Brake, M...     NaN        NaN   \n",
       "9666  Esteban Recagno, Ezequiel Stremiz, Luciano Vit...     NaN        NaN   \n",
       "9667  Michael Caine, Emily Mortimer, Joseph Gilgun, ...     NaN        NaN   \n",
       "\n",
       "      release_year rating   duration                listed_in  \\\n",
       "9663          1940     7+     60 min                   Comedy   \n",
       "9664          2018    13+  4 Seasons                 TV Shows   \n",
       "9665          2008      R     90 min                   Action   \n",
       "9666          2021  TV-MA   1 Season            Drama, Sports   \n",
       "9667          2010      R    103 min  Action, Drama, Suspense   \n",
       "\n",
       "                                            description  \n",
       "9663  New York City street principles get an East Si...  \n",
       "9664  This is Earth, 2100AD - and these are the adve...  \n",
       "9665  In war-torn Eastern Europe, a world-weary grou...  \n",
       "9666  The series tells the story of Diego Maradona, ...  \n",
       "9667  Harry Brown, starring two-time Academy Award w...  "
      ]
     },
     "execution_count": 16,
     "metadata": {},
     "output_type": "execute_result"
    }
   ],
   "source": [
    "# printing last 5 rows of the dataset\n",
    "data.tail(5)"
   ]
  },
  {
   "cell_type": "code",
   "execution_count": 8,
   "id": "7562c9ab-d62c-4365-b1ef-09db4c643e45",
   "metadata": {},
   "outputs": [
    {
     "name": "stdout",
     "output_type": "stream",
     "text": [
      "<class 'pandas.core.frame.DataFrame'>\n",
      "RangeIndex: 9668 entries, 0 to 9667\n",
      "Data columns (total 12 columns):\n",
      " #   Column        Non-Null Count  Dtype \n",
      "---  ------        --------------  ----- \n",
      " 0   show_id       9668 non-null   object\n",
      " 1   type          9668 non-null   object\n",
      " 2   title         9668 non-null   object\n",
      " 3   director      7586 non-null   object\n",
      " 4   cast          8435 non-null   object\n",
      " 5   country       672 non-null    object\n",
      " 6   date_added    155 non-null    object\n",
      " 7   release_year  9668 non-null   int64 \n",
      " 8   rating        9331 non-null   object\n",
      " 9   duration      9668 non-null   object\n",
      " 10  listed_in     9668 non-null   object\n",
      " 11  description   9668 non-null   object\n",
      "dtypes: int64(1), object(11)\n",
      "memory usage: 906.5+ KB\n"
     ]
    }
   ],
   "source": [
    "data.info()"
   ]
  },
  {
   "cell_type": "code",
   "execution_count": 99,
   "id": "9ae7730d-f36e-477c-a16e-d83f2728523b",
   "metadata": {},
   "outputs": [
    {
     "data": {
      "text/plain": [
       "['show_id',\n",
       " 'type',\n",
       " 'title',\n",
       " 'director',\n",
       " 'cast',\n",
       " 'country',\n",
       " 'date_added',\n",
       " 'release_year',\n",
       " 'rating',\n",
       " 'duration',\n",
       " 'listed_in',\n",
       " 'description']"
      ]
     },
     "execution_count": 99,
     "metadata": {},
     "output_type": "execute_result"
    }
   ],
   "source": [
    "list(data.columns)"
   ]
  },
  {
   "cell_type": "markdown",
   "id": "a972be81-9c90-4ad4-96cb-da1bf6f04600",
   "metadata": {},
   "source": [
    "**Info**: There are 9668 rows and 12 columns in the dataframe.\n",
    "*   Respectively, these columns are:\n",
    "    *   show_id,\n",
    "    *   type,   \n",
    "    *   title,\n",
    "    *   director,\n",
    "    *   cast,\n",
    "    *   country,\n",
    "    *   date_added,\n",
    "    *   release_year,\n",
    "    *   rating,\n",
    "    *   duration,\n",
    "    *   listed_in,\n",
    "    *   description"
   ]
  },
  {
   "cell_type": "code",
   "execution_count": 24,
   "id": "a6d9e6d5-396e-466f-beb9-975421960998",
   "metadata": {},
   "outputs": [
    {
     "data": {
      "text/plain": [
       "count     9331\n",
       "unique      24\n",
       "top        13+\n",
       "freq      2117\n",
       "Name: rating, dtype: object"
      ]
     },
     "execution_count": 24,
     "metadata": {},
     "output_type": "execute_result"
    }
   ],
   "source": [
    "data['rating'].describe()"
   ]
  },
  {
   "cell_type": "markdown",
   "id": "812d777a-22c5-405e-beae-6130e639fcaf",
   "metadata": {},
   "source": [
    "There are 9331 rows with filled rating value, 24 unique type of rating. Most occurring rating type is 13+ with a frequency of 2117 rows."
   ]
  },
  {
   "cell_type": "code",
   "execution_count": 35,
   "id": "81a453b7-b844-4ce6-8367-1551813e5911",
   "metadata": {},
   "outputs": [
    {
     "data": {
      "text/plain": [
       "13+         2117\n",
       "16+         1547\n",
       "ALL         1268\n",
       "18+         1243\n",
       "R           1010\n",
       "PG-13        393\n",
       "7+           385\n",
       "PG           253\n",
       "NR           223\n",
       "TV-14        208\n",
       "TV-PG        169\n",
       "TV-NR        105\n",
       "G             93\n",
       "TV-G          81\n",
       "TV-MA         77\n",
       "TV-Y          74\n",
       "TV-Y7         39\n",
       "UNRATED       33\n",
       "NC-17          3\n",
       "AGES_18_       3\n",
       "NOT_RATE       3\n",
       "AGES_16_       2\n",
       "16             1\n",
       "ALL_AGES       1\n",
       "Name: rating, dtype: int64"
      ]
     },
     "execution_count": 35,
     "metadata": {},
     "output_type": "execute_result"
    }
   ],
   "source": [
    "data['rating'].value_counts()"
   ]
  },
  {
   "cell_type": "code",
   "execution_count": 36,
   "id": "f544ba1e-aefc-4c98-a9a1-71a6b09f400c",
   "metadata": {},
   "outputs": [
    {
     "data": {
      "text/plain": [
       "Movie      7814\n",
       "TV Show    1854\n",
       "Name: type, dtype: int64"
      ]
     },
     "execution_count": 36,
     "metadata": {},
     "output_type": "execute_result"
    }
   ],
   "source": [
    "data['type'].value_counts()"
   ]
  },
  {
   "cell_type": "markdown",
   "id": "6d3c2c3d-148a-437f-8f2c-2a6a07477ec3",
   "metadata": {},
   "source": [
    "There are 7814 Movies and 1854 TV Shows inside the dataset"
   ]
  },
  {
   "cell_type": "code",
   "execution_count": 43,
   "id": "faa77fd4-0467-4ffa-b2d8-7b091d6651c5",
   "metadata": {},
   "outputs": [
    {
     "name": "stdout",
     "output_type": "stream",
     "text": [
      "1920\n",
      "2021\n"
     ]
    }
   ],
   "source": [
    "min_release = data['release_year'].min()\n",
    "#min(data['release_year'])\n",
    "print(min_release)\n",
    "max_release = data['release_year'].max()\n",
    "print(max_release)"
   ]
  },
  {
   "cell_type": "code",
   "execution_count": 64,
   "id": "893c6568-8c3b-4b82-ad66-6470f577b5c3",
   "metadata": {},
   "outputs": [
    {
     "data": {
      "text/plain": [
       "show_id         3\n",
       "type            3\n",
       "title           3\n",
       "director        3\n",
       "cast            3\n",
       "country         0\n",
       "date_added      0\n",
       "release_year    3\n",
       "rating          3\n",
       "duration        3\n",
       "listed_in       3\n",
       "description     3\n",
       "dtype: int64"
      ]
     },
     "execution_count": 64,
     "metadata": {},
     "output_type": "execute_result"
    }
   ],
   "source": [
    "data[data.release_year == min_release].count()"
   ]
  },
  {
   "cell_type": "code",
   "execution_count": 61,
   "id": "d8d55a93-dac1-47dd-8cff-290cfffa2899",
   "metadata": {},
   "outputs": [
    {
     "data": {
      "text/plain": [
       "show_id         1442\n",
       "type            1442\n",
       "title           1442\n",
       "director        1123\n",
       "cast            1232\n",
       "country           59\n",
       "date_added        53\n",
       "release_year    1442\n",
       "rating          1425\n",
       "duration        1442\n",
       "listed_in       1442\n",
       "description     1442\n",
       "dtype: int64"
      ]
     },
     "execution_count": 61,
     "metadata": {},
     "output_type": "execute_result"
    }
   ],
   "source": [
    "data[data.release_year == max_release].count()"
   ]
  },
  {
   "cell_type": "markdown",
   "id": "242da254-8800-48a1-81ec-6beb1c0193c3",
   "metadata": {},
   "source": [
    "There are 3 entries with the oldest release year(1920) and 1442 entries with the newest release year(2021)"
   ]
  },
  {
   "cell_type": "code",
   "execution_count": 108,
   "id": "e0d7e8f3-fb02-4eaa-9f01-9540b25e749d",
   "metadata": {},
   "outputs": [
    {
     "data": {
      "text/plain": [
       "show_id         False\n",
       "type            False\n",
       "title           False\n",
       "director         True\n",
       "cast             True\n",
       "country          True\n",
       "date_added       True\n",
       "release_year    False\n",
       "rating           True\n",
       "duration        False\n",
       "listed_in       False\n",
       "description     False\n",
       "dtype: bool"
      ]
     },
     "execution_count": 108,
     "metadata": {},
     "output_type": "execute_result"
    }
   ],
   "source": [
    "# checking if there are any columns with null value\n",
    "data.isnull().any()"
   ]
  },
  {
   "cell_type": "code",
   "execution_count": 110,
   "id": "184e73ee-bba3-4718-8069-50dd9540529f",
   "metadata": {},
   "outputs": [
    {
     "data": {
      "text/plain": [
       "show_id            0\n",
       "type               0\n",
       "title              0\n",
       "director        2082\n",
       "cast            1233\n",
       "country         8996\n",
       "date_added      9513\n",
       "release_year       0\n",
       "rating           337\n",
       "duration           0\n",
       "listed_in          0\n",
       "description        0\n",
       "dtype: int64"
      ]
     },
     "execution_count": 110,
     "metadata": {},
     "output_type": "execute_result"
    }
   ],
   "source": [
    "data.isnull().sum()"
   ]
  },
  {
   "cell_type": "code",
   "execution_count": 132,
   "id": "7c1ba632-59fd-4574-9715-473dbb7271c6",
   "metadata": {},
   "outputs": [
    {
     "data": {
      "text/plain": [
       "['director', 'cast', 'country', 'date_added']"
      ]
     },
     "execution_count": 132,
     "metadata": {},
     "output_type": "execute_result"
    }
   ],
   "source": [
    "# filtering columns with more than 500 null values\n",
    "na_cols = list(data.columns[data.isnull().sum() > 500])\n",
    "na_cols"
   ]
  },
  {
   "cell_type": "code",
   "execution_count": 154,
   "id": "5c11600a-8d2b-4398-8552-982b84e30e0d",
   "metadata": {},
   "outputs": [],
   "source": [
    "# filling null values with empty strings in columns with more than 500 null values\n",
    "data[na_cols] = data[na_cols].fillna('')"
   ]
  },
  {
   "cell_type": "code",
   "execution_count": 153,
   "id": "85f60a6b-f51a-4b97-861c-1c3ab308424a",
   "metadata": {},
   "outputs": [
    {
     "data": {
      "text/plain": [
       "show_id           0\n",
       "type              0\n",
       "title             0\n",
       "director          0\n",
       "cast              0\n",
       "country           0\n",
       "date_added        0\n",
       "release_year      0\n",
       "rating          337\n",
       "duration          0\n",
       "listed_in         0\n",
       "description       0\n",
       "dtype: int64"
      ]
     },
     "execution_count": 153,
     "metadata": {},
     "output_type": "execute_result"
    }
   ],
   "source": [
    "data.isnull().sum()"
   ]
  },
  {
   "cell_type": "code",
   "execution_count": 171,
   "id": "1bddac1b-e05b-425d-9a37-17aa189b643b",
   "metadata": {},
   "outputs": [
    {
     "name": "stdout",
     "output_type": "stream",
     "text": [
      "<class 'pandas.core.frame.DataFrame'>\n",
      "Int64Index: 9331 entries, 1 to 9667\n",
      "Data columns (total 12 columns):\n",
      " #   Column        Non-Null Count  Dtype \n",
      "---  ------        --------------  ----- \n",
      " 0   show_id       9331 non-null   object\n",
      " 1   type          9331 non-null   object\n",
      " 2   title         9331 non-null   object\n",
      " 3   director      9331 non-null   object\n",
      " 4   cast          9331 non-null   object\n",
      " 5   country       9331 non-null   object\n",
      " 6   date_added    9331 non-null   object\n",
      " 7   release_year  9331 non-null   int64 \n",
      " 8   rating        9331 non-null   object\n",
      " 9   duration      9331 non-null   object\n",
      " 10  listed_in     9331 non-null   object\n",
      " 11  description   9331 non-null   object\n",
      "dtypes: int64(1), object(11)\n",
      "memory usage: 947.7+ KB\n"
     ]
    }
   ],
   "source": [
    "# dropping the entries with the null values in rating column\n",
    "data.dropna(inplace=True)\n",
    "data.info()"
   ]
  },
  {
   "cell_type": "code",
   "execution_count": null,
   "id": "46269655-4222-4320-b6c2-8994ccf62637",
   "metadata": {},
   "outputs": [],
   "source": []
  }
 ],
 "metadata": {
  "kernelspec": {
   "display_name": "Python 3 (ipykernel)",
   "language": "python",
   "name": "python3"
  },
  "language_info": {
   "codemirror_mode": {
    "name": "ipython",
    "version": 3
   },
   "file_extension": ".py",
   "mimetype": "text/x-python",
   "name": "python",
   "nbconvert_exporter": "python",
   "pygments_lexer": "ipython3",
   "version": "3.11.4"
  }
 },
 "nbformat": 4,
 "nbformat_minor": 5
}
