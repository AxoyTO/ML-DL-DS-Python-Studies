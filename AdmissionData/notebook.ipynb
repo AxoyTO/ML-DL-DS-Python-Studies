{
 "cells": [
  {
   "cell_type": "code",
   "execution_count": 56,
   "id": "5790c241-2ff2-4525-9172-a9f4f1b18d5c",
   "metadata": {},
   "outputs": [],
   "source": [
    "import requests\n",
    "import pandas as pd\n",
    "import numpy as np\n",
    "import seaborn as sns\n",
    "from bs4 import BeautifulSoup"
   ]
  },
  {
   "cell_type": "code",
   "execution_count": 101,
   "id": "aeb81134-1194-445b-8333-e6b212ec4599",
   "metadata": {},
   "outputs": [
    {
     "name": "stdout",
     "output_type": "stream",
     "text": [
      "                             name  mark\n",
      "0            АКСОЙ ТЕВФИК ОГУЗХАН    65\n",
      "1                 АУНГ Е ЕЬИНТ СО    40\n",
      "2                       АУНГ КО У    45\n",
      "3                     АУНГ ЧЖО МО    40\n",
      "4        БОРИСОВ ИВАН ГЕННАДЬЕВИЧ    70\n",
      "5                      ВАН ЦЗУНЯО     2\n",
      "6                      ГАО ТЯНЬЮЙ    45\n",
      "7                    ДУАНЬ ЦИХУЭЙ     2\n",
      "8                     Е НАЙН АУНГ    40\n",
      "9      КАПУНИН ИВАН АЛЕКСАНДРОВИЧ    90\n",
      "10   КОРОЛЕВ АЛЕКСАНДР МИХАЙЛОВИЧ    95\n",
      "11                      ЛИ ЦЗЯМЭН    90\n",
      "12                      ЛИ ЦЗЯХЭН    40\n",
      "13                        ЛИ ЮЕЦИ    70\n",
      "14                          ЛЮ ГЭ     2\n",
      "15                      МАЙ СЯОЮЙ     2\n",
      "16     МАТВЕЕВ АЛЕКСЕЙ ДМИТРИЕВИЧ   100\n",
      "17      МАТЮХИН ГЕОРГИЙ АНДРЕЕВИЧ    95\n",
      "18  МИХЕЛЬСОН ГЕРМАН ВЛАДИМИРОВИЧ    95\n",
      "19                    СЮЕ МЭНДАНЬ    85\n",
      "20                  ХАН ТАР НАЙНГ    40\n",
      "21              ХЛАЙНГ БЬВАР АУНГ    45\n",
      "22                      ЦАЙ ЦИЛУН     2\n",
      "23                      ЦАЙ ЧУЦЯО    50\n",
      "24                     ЦЗИ СЮЙФАН    75\n",
      "25                   ЦЗОУ ЮНЬТЯНЬ    75\n",
      "26                   ЦЗЯН СЮЕЮАНЬ    75\n",
      "27                      ЦЯО ХЭНПУ     2\n",
      "28                   ЧЖАН ЦЗЯЛИНЬ    75\n",
      "29                     ЧЖАН ЦИНЯН    65\n",
      "30                     ЧЖОУ ФАНДА    55\n",
      "31                     ЧЖЭН ГАОСИ    70\n",
      "32                   ЧЖЭН ХУЭЙЦЗЭ    65\n",
      "33                  ЧЭНЬ ЦЗЮНЬЦЗЕ    80\n",
      "34                     ШЭНЬ АОДУН    80\n",
      "35                     ШЭНЬ ЛИВЭЙ    85\n",
      "36                   ШЭНЬ ЧЖАОЛУН    80\n"
     ]
    }
   ],
   "source": [
    "class HTMLTableParser:\n",
    "    \n",
    "    def parse_url(self, url):\n",
    "        response = requests.get(url)\n",
    "        soup = BeautifulSoup(response.text, 'lxml')\n",
    "        #table_div = soup.find('div' , {'class': 'field__items'})\n",
    "        a = soup.find_all('table')\n",
    "        df = self.parse_html_table(a)\n",
    "        \n",
    "        print(df)\n",
    "        return df\n",
    "\n",
    "    def parse_html_table(self, table):\n",
    "        #print(table)\n",
    "        names = []\n",
    "        marks = []\n",
    "        for row in table[0].find_all('tr'):\n",
    "            #print(row)\n",
    "            td_tags = row.find_all('td')\n",
    "            name_td = td_tags[0]\n",
    "            marks_td = td_tags[1]\n",
    "            names.append(name_td.get_text())\n",
    "            marks.append(marks_td.get_text())\n",
    "        \n",
    "        names = np.array(names[1:], dtype='str')\n",
    "        marks = np.array(marks[1:], dtype='int')\n",
    "        df = pd.DataFrame(list(zip(names,marks)))\n",
    "        df = df.rename(columns={\n",
    "            0 : 'name',\n",
    "            1 : 'mark'\n",
    "        })\n",
    "        return df\n",
    "        \n",
    "hp = HTMLTableParser()\n",
    "df = hp.parse_url(\"https://pk.cs.msu.ru/node/297\")"
   ]
  },
  {
   "cell_type": "code",
   "execution_count": 102,
   "id": "f726e083-e9b0-4287-9c3c-f4a50ff570ee",
   "metadata": {},
   "outputs": [
    {
     "data": {
      "text/html": [
       "<div>\n",
       "<style scoped>\n",
       "    .dataframe tbody tr th:only-of-type {\n",
       "        vertical-align: middle;\n",
       "    }\n",
       "\n",
       "    .dataframe tbody tr th {\n",
       "        vertical-align: top;\n",
       "    }\n",
       "\n",
       "    .dataframe thead th {\n",
       "        text-align: right;\n",
       "    }\n",
       "</style>\n",
       "<table border=\"1\" class=\"dataframe\">\n",
       "  <thead>\n",
       "    <tr style=\"text-align: right;\">\n",
       "      <th></th>\n",
       "      <th>mark</th>\n",
       "    </tr>\n",
       "  </thead>\n",
       "  <tbody>\n",
       "    <tr>\n",
       "      <th>count</th>\n",
       "      <td>37.000000</td>\n",
       "    </tr>\n",
       "    <tr>\n",
       "      <th>mean</th>\n",
       "      <td>57.621622</td>\n",
       "    </tr>\n",
       "    <tr>\n",
       "      <th>std</th>\n",
       "      <td>30.539002</td>\n",
       "    </tr>\n",
       "    <tr>\n",
       "      <th>min</th>\n",
       "      <td>2.000000</td>\n",
       "    </tr>\n",
       "    <tr>\n",
       "      <th>25%</th>\n",
       "      <td>40.000000</td>\n",
       "    </tr>\n",
       "    <tr>\n",
       "      <th>50%</th>\n",
       "      <td>65.000000</td>\n",
       "    </tr>\n",
       "    <tr>\n",
       "      <th>75%</th>\n",
       "      <td>80.000000</td>\n",
       "    </tr>\n",
       "    <tr>\n",
       "      <th>max</th>\n",
       "      <td>100.000000</td>\n",
       "    </tr>\n",
       "  </tbody>\n",
       "</table>\n",
       "</div>"
      ],
      "text/plain": [
       "             mark\n",
       "count   37.000000\n",
       "mean    57.621622\n",
       "std     30.539002\n",
       "min      2.000000\n",
       "25%     40.000000\n",
       "50%     65.000000\n",
       "75%     80.000000\n",
       "max    100.000000"
      ]
     },
     "execution_count": 102,
     "metadata": {},
     "output_type": "execute_result"
    }
   ],
   "source": [
    "df.describe()"
   ]
  },
  {
   "cell_type": "code",
   "execution_count": 103,
   "id": "7c1e10bd-d604-4804-856b-e7f49c8ba9d4",
   "metadata": {},
   "outputs": [
    {
     "data": {
      "text/plain": [
       "2      6\n",
       "40     5\n",
       "75     4\n",
       "65     3\n",
       "45     3\n",
       "70     3\n",
       "95     3\n",
       "80     3\n",
       "90     2\n",
       "85     2\n",
       "100    1\n",
       "50     1\n",
       "55     1\n",
       "Name: mark, dtype: int64"
      ]
     },
     "execution_count": 103,
     "metadata": {},
     "output_type": "execute_result"
    }
   ],
   "source": [
    "df['mark'].value_counts()"
   ]
  },
  {
   "cell_type": "code",
   "execution_count": 110,
   "id": "019cb7b0-7e25-4521-b249-724640205746",
   "metadata": {},
   "outputs": [
    {
     "data": {
      "text/plain": [
       "name    18\n",
       "mark    18\n",
       "dtype: int64"
      ]
     },
     "execution_count": 110,
     "metadata": {},
     "output_type": "execute_result"
    }
   ],
   "source": [
    "df[df.mark <= 65].sort_values('mark', ascending=False).count()-1"
   ]
  },
  {
   "cell_type": "code",
   "execution_count": 113,
   "id": "86ac1c82-9b2f-46cf-863e-f5d509c6e4f7",
   "metadata": {},
   "outputs": [
    {
     "data": {
      "text/plain": [
       "name    18\n",
       "mark    18\n",
       "dtype: int64"
      ]
     },
     "execution_count": 113,
     "metadata": {},
     "output_type": "execute_result"
    }
   ],
   "source": [
    "df[df.mark > 65].sort_values('mark', ascending=False).count()"
   ]
  },
  {
   "cell_type": "code",
   "execution_count": 115,
   "id": "863494c5-f6e1-4775-8245-8f7b5000337c",
   "metadata": {},
   "outputs": [
    {
     "data": {
      "text/plain": [
       "<Axes: xlabel='mark'>"
      ]
     },
     "execution_count": 115,
     "metadata": {},
     "output_type": "execute_result"
    },
    {
     "data": {
      "image/png": "[encoded data removed]",
      "text/plain": [
       "<Figure size 640x480 with 1 Axes>"
      ]
     },
     "metadata": {},
     "output_type": "display_data"
    }
   ],
   "source": [
    "sns.boxplot(x='mark',data=df)"
   ]
  },
  {
   "cell_type": "code",
   "execution_count": null,
   "id": "9f79feb2-f6fb-461d-befc-87bc4cbb88c1",
   "metadata": {},
   "outputs": [],
   "source": []
  }
 ],
 "metadata": {
  "kernelspec": {
   "display_name": "Python 3 (ipykernel)",
   "language": "python",
   "name": "python3"
  },
  "language_info": {
   "codemirror_mode": {
    "name": "ipython",
    "version": 3
   },
   "file_extension": ".py",
   "mimetype": "text/x-python",
   "name": "python",
   "nbconvert_exporter": "python",
   "pygments_lexer": "ipython3",
   "version": "3.11.4"
  }
 },
 "nbformat": 4,
 "nbformat_minor": 5
}
