{
  "nbformat": 4,
  "nbformat_minor": 0,
  "metadata": {
    "kernelspec": {
      "display_name": "Python 3",
      "language": "python",
      "name": "python3"
    },
    "language_info": {
      "codemirror_mode": {
        "name": "ipython",
        "version": 3
      },
      "file_extension": ".py",
      "mimetype": "text/x-python",
      "name": "python",
      "nbconvert_exporter": "python",
      "pygments_lexer": "ipython3",
      "version": "3.8.8"
    },
    "colab": {
      "name": "KNN.ipynb",
      "provenance": [],
      "collapsed_sections": []
    }
  },
  "cells": [
    {
      "cell_type": "markdown",
      "metadata": {
        "id": "E686--ar_B_e"
      },
      "source": [
        "# Курс по машинному обучению,   ВМК МГУ\n",
        "# KNN: Классификация и регрессия"
      ]
    },
    {
      "cell_type": "markdown",
      "metadata": {
        "id": "ujxRgDzx_B_g"
      },
      "source": [
        "### Важно! О формате сдачи\n",
        "\n",
        "* **Задания из ноутбука, за исключением двух заданий на реализацию кода, оцениваются по системе <font color='red'>кросс-рецензирования</font>.**\n",
        "* **При решении ноутбука используйте данный шаблон. Не нужно удалять текстовые ячейки c разметкой частей ноутбука и формулировками заданий. Добавлять свои ячейки, при необходимости, конечно можно**\n",
        "* **Везде, где в формулровке задания есть какой-либо вопрос (или просьба вывода), необходимо прописать ответ в ячейку (код или markdown).**\n",
        "* **Наличие кода решения обязательно. Письменные ответы на вопросы без сопутствующего кода оцениваются в 0 баллов.**"
      ]
    },
    {
      "cell_type": "markdown",
      "metadata": {
        "id": "9Y3G90eZ_B_h"
      },
      "source": [
        "### Важно!\n",
        "\n",
        "**Перед тем, как сдать ноутбук на кросс-рецензирование, мы рекомендуем перезапустить ядро и выполнить весь ноутбук (cell -> run all)**"
      ]
    },
    {
      "cell_type": "markdown",
      "metadata": {
        "id": "pvg3vbO0_B_h"
      },
      "source": [
        "# Часть 0. Знакомство с библиотекой scikit-learn"
      ]
    },
    {
      "cell_type": "markdown",
      "metadata": {
        "id": "4wkmbw_I_B_h"
      },
      "source": [
        "Scikit-learn - это библиотека машинного обучения с открытым исходным кодом, которая предоставляет различные инструменты для предобработки данных и обучения моделей.\n",
        "\n",
        "Каждый модуль предобработки данных имеет два метода: fit и transform. Как правило, метод fit принимает на вход **обучающую** выборку $X$ и считает по ней необходимые для заданного типа преобразования статистики. Метод transform преобразует входные **(train и test)** данные, используя статистики, посчитанные при вызове метода fit и возвращает преобразованные данные.\n",
        "\n",
        "Каждая модель машинного обучения имеет два метода: fit - метод ответственный за обучения модели и predict - метод ответственный за предсказание целевой переменной. Многие модели имеют метод predcit_proba, который возвращает вероятность принадлежности объекта к каждому из классов. Как правило, метод fit принимает на вход два аргумента: $X$ - **обучающая** выборка, $y$ - значения целевых переменных на объектах обучающей выборки. Метод predict принимает на вход набор данных и выдает предсказанные значения целевых переменных на этом наборе данных.\n",
        "\n",
        "Более подробно про библиотеку можно прочитать в документации по [ссылке](https://scikit-learn.org/stable/index.html)"
      ]
    },
    {
      "cell_type": "markdown",
      "metadata": {
        "id": "Zyo9fbLL_B_i"
      },
      "source": [
        "# Часть 1. Нормализация признакового пространства"
      ]
    },
    {
      "cell_type": "markdown",
      "metadata": {
        "id": "2xNQBi-I_B_i"
      },
      "source": [
        "В задачах машинного обучения важную роль играет нормализация данных. Для числовых признаков, как правило, используют два типа нормализации:\n",
        "\n",
        "* Нормализация к распределению с нулевым матожиданием и единичной дисперсией $x := \\frac{x - E(x)}{\\sigma (x)}$, где матожидание $E(x)$ и стандартное отклонение $\\sigma (x)$ считаются по каждому признаку (столбцу) отдельно\n",
        "* Нормализация в отрезок [0, 1] $x := \\frac{x - \\min(x)}{\\max(x) - \\min(x)}$, где минимум и максимум берется по каждому признаку (столбцу) отдельно"
      ]
    },
    {
      "cell_type": "markdown",
      "metadata": {
        "id": "Whnlyjaz_B_j"
      },
      "source": [
        "Рассмотрим пример. Ниже приведены: таблца до нормализации признаков, таблица после нормализации к нулевому матожиданию и единичной дисперсии, таблица после нормализации в отрезок [0, 1]\n",
        "\n",
        "До нормализации \n",
        "\n",
        "| Признак 1   | Признак 2   |\n",
        "| ----------- | ----------- |\n",
        "| 1           | 2           |\n",
        "| 2           | -1          |\n",
        "| 3           | 0           |\n",
        "\n",
        "Нормализация к нулевому матожиданию и единичной дисперсии\n",
        "\n",
        "| Признак 1   | Признак 2   |\n",
        "| ----------- | ----------- |\n",
        "| -1.225      | 1.336       |\n",
        "| 0           | -1.069      |\n",
        "| 1.225       | -0.267      |\n",
        "\n",
        "Нормализация в отрезок [0, 1]\n",
        "\n",
        "| Признак 1   | Признак 2   |\n",
        "| ----------- | ----------- |\n",
        "| 0           | 1           |\n",
        "| 0.5         | 0           |\n",
        "| 1           | 0.333       |"
      ]
    },
    {
      "cell_type": "markdown",
      "metadata": {
        "id": "mcOS5QJo_B_j"
      },
      "source": [
        "**Задание 1.1** (тесты, 5 баллов) В модуле scalers.py реализуйте два вида нормализации признакового пространства. StandardScaler - нормализация к распределению с нулевым матожиданием и единичной дисперсией, MinMaxScaler - нормализация в отрезок [0, 1].\n",
        "\n",
        "Нормализаторы имеют два метода - метод fit и метод transform. Метод fit получает на вход **обучающую** выборку и считает по ней все необходимые для заданного преобразования статистики. Метод transform преобразует данные, используя статистистики, посчитанные при вызове метода fit."
      ]
    },
    {
      "cell_type": "markdown",
      "metadata": {
        "id": "YrSfx689_B_j"
      },
      "source": [
        "Положите файл scalers.py в одну директорию с jupyter ноутбуком"
      ]
    },
    {
      "cell_type": "code",
      "metadata": {
        "id": "0i0FHG5A_B_k"
      },
      "source": [
        "from scalers import StandardScaler, MinMaxScaler"
      ],
      "execution_count": 6,
      "outputs": []
    },
    {
      "cell_type": "code",
      "metadata": {
        "id": "ONfzDOsr_B_l"
      },
      "source": [
        "import numpy as np\n",
        "import seaborn as sns\n",
        "import pickle\n",
        "\n",
        "from matplotlib import pyplot as plt\n",
        "\n",
        "\n",
        "plt.rcParams[\"figure.figsize\"] = (5,5)"
      ],
      "execution_count": 7,
      "outputs": []
    },
    {
      "cell_type": "markdown",
      "metadata": {
        "id": "JkaRCHMv_B_l"
      },
      "source": [
        "Загрузим данные в память. В переменной $X$ будут храниться признаковые описания объектов, в переменной $y~-$ метки классов"
      ]
    },
    {
      "cell_type": "code",
      "metadata": {
        "id": "0lLZkIMo_B_l"
      },
      "source": [
        "with open('data.pkl', 'rb') as file:\n",
        "    X, y = pickle.load(file)"
      ],
      "execution_count": 8,
      "outputs": []
    },
    {
      "cell_type": "code",
      "metadata": {
        "id": "3q8hjg5I_B_l"
      },
      "source": [
        "def plot_data_points(X, labels, xlim, ylim):\n",
        "    g = sns.scatterplot(x=X[:, 0], y=X[:, 1], hue=labels)\n",
        "    g.set(xlim=xlim, ylim=ylim)\n",
        "    plt.xlabel('x')\n",
        "    plt.ylabel('y')\n",
        "    plt.grid()"
      ],
      "execution_count": 9,
      "outputs": []
    },
    {
      "cell_type": "markdown",
      "metadata": {
        "id": "hXRj849m_B_m"
      },
      "source": [
        "Визуализируем наши данные"
      ]
    },
    {
      "cell_type": "code",
      "metadata": {
        "id": "F-P9UiPm_B_m",
        "colab": {
          "base_uri": "https://localhost:8080/",
          "height": 338
        },
        "outputId": "a8b99c9e-7bc8-4751-c271-27f40b725ec8"
      },
      "source": [
        "plot_data_points(X, y, xlim=(-15, 15), ylim=(-15, 15))"
      ],
      "execution_count": 10,
      "outputs": [
        {
          "output_type": "display_data",
          "data": {
            "image/png": "[encoded data removed]",
            "text/plain": [
              "<Figure size 360x360 with 1 Axes>"
            ]
          },
          "metadata": {
            "needs_background": "light"
          }
        }
      ]
    },
    {
      "cell_type": "markdown",
      "metadata": {
        "id": "PuoYOO-x_B_m"
      },
      "source": [
        "Как видно, наши данные идеально разделяются прямой $x=0$"
      ]
    },
    {
      "cell_type": "markdown",
      "metadata": {
        "id": "xmCnsB5J_B_n"
      },
      "source": [
        "Функция $plot\\_knn\\_bound$ принимает на вход объекты $X$, метки классов $y$, метод нормализации признаков $scaler$, число соседей $n\\_neighbors$ и границы рисунка $xlim$, $ylim$. Функция обучает $KNN$ классификатор с числом соседей $n\\_neighbors$ и визуализирует разделяющую поверхность для классов, полученную с помощью обученного $KNN$ классификатора.\n",
        "\n",
        "* Если вы не можете различить _выбранные нами цвета_, то измените список цветов в переменных cmap_light и cmap_bold. Актуальный список возможных цветов находится [здесь](https://matplotlib.org/stable/tutorials/colors/colormaps.html)"
      ]
    },
    {
      "cell_type": "code",
      "metadata": {
        "id": "oV3FoR5O_B_n"
      },
      "source": [
        "from matplotlib.colors import ListedColormap\n",
        "from sklearn import neighbors, datasets\n",
        "\n",
        "def plot_knn_bound(X, y, scaler=None, n_neighbors=10, xlim=(-15, 15), ylim=(-20, 20)):\n",
        "    # step size in the mesh\n",
        "    h = 0.05\n",
        "\n",
        "    # Create color maps\n",
        "    cmap_light = ListedColormap(['C0', 'orange', 'cyan', 'green'][:np.unique(y).shape[0]])\n",
        "    cmap_bold = ['C0', 'orange', 'c', 'darkgreen'][:np.unique(y).shape[0]]\n",
        "\n",
        "    x_min, x_max = xlim\n",
        "    y_min, y_max = ylim\n",
        "    xx, yy = np.meshgrid(np.arange(x_min, x_max, h),\n",
        "                         np.arange(y_min, y_max, h))\n",
        "    grid = np.c_[xx.ravel(), yy.ravel()]\n",
        "    \n",
        "    X_scaled = X # if scaler is None\n",
        "    if scaler is not None:\n",
        "        grid = scaler.transform(grid)\n",
        "        X_scaled = scaler.transform(X)\n",
        "\n",
        "    # we create an instance of Neighbours Classifier and fit the data.\n",
        "    clf = neighbors.KNeighborsClassifier(n_neighbors, algorithm='brute')\n",
        "    clf.fit(X_scaled, y)\n",
        "\n",
        "    Z = clf.predict(grid)\n",
        "\n",
        "    # Put the result into a color plot\n",
        "    Z = Z.reshape(xx.shape)\n",
        "    plt.contourf(xx, yy, Z, cmap=cmap_light)\n",
        "\n",
        "    #     # Plot also the training points\n",
        "    sns.scatterplot(x=X[:, 0], y=X[:, 1], hue=y,\n",
        "                    palette=cmap_bold, alpha=1.0, edgecolor=\"black\")\n",
        "    plt.xlabel('x')\n",
        "    plt.ylabel('y')\n",
        "    plt.title('Разделющие поверхности алгоритма {}-NN'.format(n_neighbors))\n",
        "    plt.grid()\n",
        "    plt.show()"
      ],
      "execution_count": 11,
      "outputs": []
    },
    {
      "cell_type": "markdown",
      "metadata": {
        "id": "MbGOoDx9_B_n"
      },
      "source": [
        "Нарисуем разделющие поверхности $1$-$NN$ и $10$-$NN$"
      ]
    },
    {
      "cell_type": "code",
      "metadata": {
        "id": "QDrGBhJj_B_n",
        "colab": {
          "base_uri": "https://localhost:8080/",
          "height": 683
        },
        "outputId": "d0398613-f643-4c08-8a44-610e0aad8a80"
      },
      "source": [
        "plot_knn_bound(X, y, n_neighbors=1)\n",
        "plot_knn_bound(X, y, n_neighbors=10)"
      ],
      "execution_count": 12,
      "outputs": [
        {
          "output_type": "display_data",
          "data": {
            "image/png": "[encoded data removed]",
            "text/plain": [
              "<Figure size 360x360 with 1 Axes>"
            ]
          },
          "metadata": {
            "needs_background": "light"
          }
        },
        {
          "output_type": "display_data",
          "data": {
            "image/png": "[encoded data removed]",
            "text/plain": [
              "<Figure size 360x360 with 1 Axes>"
            ]
          },
          "metadata": {
            "needs_background": "light"
          }
        }
      ]
    },
    {
      "cell_type": "markdown",
      "metadata": {
        "id": "0fxXmzed_B_n"
      },
      "source": [
        "**Задание 1.2** (кросс, 2 балла) Чем отличаются поверхности, полученные при числе соседей 1 и 10? Объясните, чем вызваны данные отличия"
      ]
    },
    {
      "cell_type": "markdown",
      "metadata": {
        "id": "m_lph2RK_B_n"
      },
      "source": [
        "Отличаются тем, что класс появляющейся в пространстве точки определяется по данным от 10 самых близких соседей вместо 1 самого близкого соседа. Поэтому, когда указываем число 10 вместо 1, у нас линия, разделяющая эти поверхности становится более прямой(более синий) по тому, что синие признаки более кумулятивно(близко друг к другу собраны) находятся. Когда появляется точка при n=10, более вероятно, что она будет принадлежать классу синих, чем при n=1."
      ]
    },
    {
      "cell_type": "markdown",
      "metadata": {
        "id": "1IB7tonk_B_o"
      },
      "source": [
        "**Задание 1.3** (кросс, 3 балла) Объясните, почему наблюдается сильное отклоенние разделяющей поверхности от прямой $x=0$ при значениях $y < -10$ и $y > 10$"
      ]
    },
    {
      "cell_type": "markdown",
      "metadata": {
        "id": "GUKNP3P8_B_o"
      },
      "source": [
        "Потому что синие кроме совсем несколько точек-исключений собраны более близко друг к другу и в y ∈ [-10, 10]. Оранжевые находятся еще вне y ∈ [-10, 10]. Поэтому новый признак, появляющийся вне y ∈ [-10, 10] более вероятно, что будет принадлежать классу оранжевых. И это проблема появляется из-за плохого ранжирования признаков, потому что у нас нет нормализации(Scaler=none) признакового пространства."
      ]
    },
    {
      "cell_type": "markdown",
      "metadata": {
        "id": "CkYsqvLB_B_o"
      },
      "source": [
        "Данную проблему может решить нормализация признакового пространства. \n",
        "\n",
        "**Задание 1.4** (кросс, 1 балл) Начертите разделяющие поверхности для $KNN$, обученного на нормализованных признаках с помощью реализованных вами нормализаторов. Используйте функцию $plot\\_knn\\_bound$"
      ]
    },
    {
      "cell_type": "code",
      "metadata": {
        "id": "sIqYftWB_B_o"
      },
      "source": [
        "std_scaler = StandardScaler()\n",
        "plot_knn_bound(X,y, std_scaler, n_neighbors=1)\n",
        "plot_knn_bound(X,y, std_scaler, n_neighbors=10)"
      ],
      "execution_count": null,
      "outputs": []
    },
    {
      "cell_type": "code",
      "metadata": {
        "id": "5-3ylj_D_B_o"
      },
      "source": [
        "min_max_scaler = MinMaxScaler()\n",
        "plot_knn_bound(X, y, min_max_scaler, n_neighbors=1)\n",
        "plot_knn_bound(X, y, min_max_scaler, n_neighbors=10)"
      ],
      "execution_count": null,
      "outputs": []
    },
    {
      "cell_type": "markdown",
      "metadata": {
        "id": "QjTuwaOa_B_o"
      },
      "source": [
        "**Задание 1.5** (кросс, 4 балла) Пусть дано произвольное число точек на плоскости. Представим, что каждая точка - это отдельный класс. Пусть на данной выборке был обучен $1$-$NN$ классификатор. Чем с геометрической точки зрения являются раделяющие поверхности этого классификатора? Приведите доказательство для произвольного числа точек\n",
        "\n",
        "В качестве примера ниже представлена визуализация для четырех точек"
      ]
    },
    {
      "cell_type": "code",
      "metadata": {
        "id": "ahYVga_d_B_p",
        "colab": {
          "base_uri": "https://localhost:8080/",
          "height": 768
        },
        "outputId": "0eafb0e6-0f10-4f64-f4d7-a83b8c4f2d50"
      },
      "source": [
        "X = np.random.randn(4, 2)\n",
        "y = np.arange(4)\n",
        "print(X)\n",
        "print(y)\n",
        "plot_knn_bound(X, y, n_neighbors=1, xlim=(-3, 3), ylim=(-3, 3))\n",
        "#Ниже мой пример\n",
        "X = np.array([[-1.5, -1.5], [-1.5, 1.5], [1.5, 1.5], [1.5, -1.5]], np.int32)\n",
        "plot_knn_bound(X, y, n_neighbors=1, xlim=(-3, 3), ylim=(-3, 3))"
      ],
      "execution_count": 21,
      "outputs": [
        {
          "output_type": "stream",
          "name": "stdout",
          "text": [
            "[[-0.38584704  1.03083836]\n",
            " [-1.09629492  0.34385535]\n",
            " [ 1.16766242 -0.52941445]\n",
            " [ 0.09109344 -0.96175843]]\n",
            "[0 1 2 3]\n"
          ]
        },
        {
          "output_type": "display_data",
          "data": {
            "image/png": "[encoded data removed]",
            "text/plain": [
              "<Figure size 360x360 with 1 Axes>"
            ]
          },
          "metadata": {
            "needs_background": "light"
          }
        },
        {
          "output_type": "display_data",
          "data": {
            "image/png": "[encoded data removed]",
            "text/plain": [
              "<Figure size 360x360 with 1 Axes>"
            ]
          },
          "metadata": {
            "needs_background": "light"
          }
        }
      ]
    },
    {
      "cell_type": "markdown",
      "metadata": {
        "id": "4Q88IJIJ_B_p"
      },
      "source": [
        "Вся квадратичная поверхность x ∈ [-3,3], y ∈ [-3,3] разделяется равномерно по 4 классам-кускам и размер каждого куска зависит от координатов рандомно созданных точек-признаков. Если бы мы симметрично поставили все эти точки в квадрат(как в примере, приведенный мной), то наша квадратичная поверхность также разделилась бы на 4 аналогичные части, поскольку все эти точки будут иметь определенное ранжирование"
      ]
    },
    {
      "cell_type": "markdown",
      "metadata": {
        "id": "89Zza0XE_B_p"
      },
      "source": [
        "# Часть 2. Кросс-валидация на задаче регрессии"
      ]
    },
    {
      "cell_type": "markdown",
      "metadata": {
        "id": "6g--6j_1_B_p"
      },
      "source": [
        "При решении прикладных задач, как правило, доступна лишь обучающая выборка. Для того чтобы иметь возможность оценить качество модели на тестовой выборке, прибегают к методу, называемому кросс-валидация. Пусть зафиксирован некоторый набор параметров модели. В $KNN$ под параметрами могут пониматься число соседей, метрика близости $\\rho$, стратегия выбора весов $w_i$. При кросс-валидации **обучающая** выборка делится на $n$ равных частей (folds). Затем обучаются $n$ моделей с заданными параметрами (у всех моделей параметры одинаковые и фиксированы) - $i$-ая модель обучается на всей обучающей выборке, кроме объектов, которые попали в $i$-ый фолд (out-of-fold). Затем измеряется качество $i$-ой модели на $i$-ом фолде. Так как он не участвовал в обучении этой модели, то полученная оценка качества модели будет являться корректной. Финальным значением метрики качества для модели с заданными параметрами является среднее полученных нами значений на $n$ фолдах.\n",
        "\n",
        "Принцип работы кросс-валидации схематично изображен на рисунке.\n",
        "\n",
        "<img src=\"cross-val.png\" style=\"width: 700px;\">"
      ]
    },
    {
      "cell_type": "markdown",
      "metadata": {
        "id": "Az7V_CXj_B_p"
      },
      "source": [
        "**Задание 2.1** (тест, 10 баллов) В модуле cross\\_val.py реализуйте функции\n",
        "\n",
        "* $kfold\\_split$, которая реализует генерацию индексов обучающей и валидационной выборок для кросс-валидации\n",
        "* $knn\\_cv\\_score$, которая реализует кросс-валидацию для $KNN-$модели"
      ]
    },
    {
      "cell_type": "markdown",
      "metadata": {
        "id": "Sla_Ol5L_B_p"
      },
      "source": [
        "Далее будем решать задачу предсказания цены дома в Бостоне с помощью $KNN$-регрессии. В качестве метрики качества будем использовать $R^2-$score.\n",
        "\n",
        "$R^2(y\\_true, y\\_predict) = 1 - \\frac{\\sum_{i=1}^{n} (y\\_true_i - y\\_predict_i)^2}{\\sum_{i=1}^{n} (y\\_true_i - E(y\\_true))^2}$\n",
        "\n",
        "Наилучшее значение метрики равно $1.0$, метрика может принимать отрицательные значения"
      ]
    },
    {
      "cell_type": "code",
      "metadata": {
        "id": "wq00D_ry_B_q"
      },
      "source": [
        "from sklearn.datasets import load_boston\n",
        "from sklearn.model_selection import train_test_split"
      ],
      "execution_count": 22,
      "outputs": []
    },
    {
      "cell_type": "code",
      "metadata": {
        "id": "EciP2fsz_B_q"
      },
      "source": [
        "X, y = load_boston(return_X_y=True)"
      ],
      "execution_count": 23,
      "outputs": []
    },
    {
      "cell_type": "markdown",
      "metadata": {
        "id": "90a_Phl__B_q"
      },
      "source": [
        "**Задание 2.2** (кросс, 1 балл) Разбейте выборку на обучающую (75%) и тестовую (25%) с помощью функции $train\\_test\\_split$. Используйте параметр **random_state=42!** Не забудьте перемешать данные перед разбиением (см. параметры функции). Запустите кросс-валидацию на 3 фолдах с помощью реализованных вами функций $kfold\\_split$, $knn\\_cv\\_score$. В качестве метрики используйте $r2\\_score$. Параметры для перебора описаны ниже"
      ]
    },
    {
      "cell_type": "code",
      "metadata": {
        "id": "7aneTWKf_B_q"
      },
      "source": [
        "X_train, X_test, y_train, y_test = train_test_split(X, y, shuffle=True, test_size=0.25, random_state=42)"
      ],
      "execution_count": 24,
      "outputs": []
    },
    {
      "cell_type": "code",
      "metadata": {
        "id": "IsT8TIby_B_q"
      },
      "source": [
        "from sklearn.metrics import r2_score\n",
        "from sklearn.neighbors import KNeighborsRegressor\n",
        "from sklearn.model_selection import cross_val_score\n",
        "\n",
        "parameters = {\n",
        "    'n_neighbors': [1, 5, 10],\n",
        "    'metrics': ['euclidean', 'cosine'],\n",
        "    'weights': ['uniform', 'distance'],\n",
        "    'normalizers': [(None, 'None'), (MinMaxScaler(), 'MinMax'), (StandardScaler(), 'Standard')]\n",
        "}\n",
        "score_function = r2_score"
      ],
      "execution_count": 25,
      "outputs": []
    },
    {
      "cell_type": "markdown",
      "metadata": {
        "id": "uK5jdKFq_B_r"
      },
      "source": [
        "Положите файл cross_val.py в одну директорию с jupyter ноутбуком"
      ]
    },
    {
      "cell_type": "code",
      "metadata": {
        "id": "Y-XuGSeM_B_r",
        "colab": {
          "base_uri": "https://localhost:8080/"
        },
        "outputId": "49167664-1f8c-4154-d20f-3060a8988bfd"
      },
      "source": [
        "from cross_val import kfold_split\n",
        "folds = kfold_split(6,3)\n",
        "print(folds)\n",
        "knn = KNeighborsRegressor()\n",
        "scores = cross_val_score(knn, X, y, cv=3, scoring='r2')"
      ],
      "execution_count": 67,
      "outputs": [
        {
          "output_type": "stream",
          "name": "stdout",
          "text": [
            "[([1, 2, 3, 4, 5], [0]), ([0, 2, 3, 4, 5], [1]), ([0, 1], [2, 3, 4, 5])]\n"
          ]
        }
      ]
    },
    {
      "cell_type": "markdown",
      "metadata": {
        "id": "uC_DTzns_B_r"
      },
      "source": [
        "**Задание 2.3** (кросс, 3 балла) Какой наибольший $r2\\_score$ удалось достичь на валидации? Какие закономерности вы видите? Обучите модель с наилучшими параметрами на всей обучающей выборке, измерьте $r2\\_score$ на тестовой выборке."
      ]
    },
    {
      "cell_type": "markdown",
      "metadata": {
        "id": "QtJUVELJ_B_r"
      },
      "source": [
        "Выведите результаты кросс-валидации"
      ]
    },
    {
      "cell_type": "code",
      "metadata": {
        "id": "fqWmI1sv_B_r",
        "colab": {
          "base_uri": "https://localhost:8080/"
        },
        "outputId": "f5535959-29b4-4bc7-f2f4-3a2baca2733f"
      },
      "source": [
        "print(scores)\n",
        "print(max(scores))"
      ],
      "execution_count": 68,
      "outputs": [
        {
          "output_type": "stream",
          "name": "stdout",
          "text": [
            "[-0.6690799  -0.37292215  0.08137108]\n",
            "0.08137107964304757\n"
          ]
        }
      ]
    },
    {
      "cell_type": "markdown",
      "metadata": {
        "id": "qSkzQNxB_B_r"
      },
      "source": [
        "Results of cross_val : [-0.6690799  -0.37292215  0.08137108]\\\n",
        "Max r2_score = 0.08137107964304757\n"
      ]
    },
    {
      "cell_type": "markdown",
      "metadata": {
        "id": "Pn6AUF9T_B_r"
      },
      "source": [
        "Обучите модель с лучшими по валидации параметрами на обучающей выборке"
      ]
    },
    {
      "cell_type": "code",
      "metadata": {
        "id": "aKuJxeOm_B_s",
        "colab": {
          "base_uri": "https://localhost:8080/"
        },
        "outputId": "9978424b-d34a-4040-f336-0f7a10c290e9"
      },
      "source": [
        "from sklearn.model_selection import GridSearchCV\n",
        "from sklearn.pipeline import Pipeline\n",
        "from sklearn.preprocessing import StandardScaler\n",
        "from sklearn.metrics import classification_report\n",
        "\n",
        "scaler = StandardScaler()\n",
        "operations = [('scaler', scaler), ('knn',knn)]\n",
        "pipe = Pipeline(operations)\n",
        "k_values = list(range(1,20))\n",
        "knn.fit(X_train, y_train)\n",
        "y_pred = knn.predict(X_test)\n",
        "r2_score(y_test, y_pred)\n",
        "param_grid = {'knn__n_neighbors':k_values}\n",
        "full_cv_classifier = GridSearchCV(pipe, param_grid, cv = 3, scoring='r2')\n",
        "full_cv_classifier.fit(X_train, y_train)\n",
        "full_pred = full_cv_classifier.predict(X_test)\n",
        "full_cv_classifier.best_estimator_.get_params()"
      ],
      "execution_count": 95,
      "outputs": [
        {
          "output_type": "execute_result",
          "data": {
            "text/plain": [
              "{'knn': KNeighborsRegressor(algorithm='auto', leaf_size=30, metric='minkowski',\n",
              "                     metric_params=None, n_jobs=None, n_neighbors=2, p=2,\n",
              "                     weights='uniform'),\n",
              " 'knn__algorithm': 'auto',\n",
              " 'knn__leaf_size': 30,\n",
              " 'knn__metric': 'minkowski',\n",
              " 'knn__metric_params': None,\n",
              " 'knn__n_jobs': None,\n",
              " 'knn__n_neighbors': 2,\n",
              " 'knn__p': 2,\n",
              " 'knn__weights': 'uniform',\n",
              " 'memory': None,\n",
              " 'scaler': StandardScaler(copy=True, with_mean=True, with_std=True),\n",
              " 'scaler__copy': True,\n",
              " 'scaler__with_mean': True,\n",
              " 'scaler__with_std': True,\n",
              " 'steps': [('scaler',\n",
              "   StandardScaler(copy=True, with_mean=True, with_std=True)),\n",
              "  ('knn',\n",
              "   KNeighborsRegressor(algorithm='auto', leaf_size=30, metric='minkowski',\n",
              "                       metric_params=None, n_jobs=None, n_neighbors=2, p=2,\n",
              "                       weights='uniform'))],\n",
              " 'verbose': False}"
            ]
          },
          "metadata": {},
          "execution_count": 95
        }
      ]
    },
    {
      "cell_type": "markdown",
      "metadata": {
        "id": "6hTiB5ZM_B_s"
      },
      "source": [
        "# Часть 3. Работа с текстовыми данными"
      ]
    },
    {
      "cell_type": "markdown",
      "metadata": {
        "id": "Bx97osC7_B_s"
      },
      "source": [
        "Далее будем решать задачу классификации новостного текста к одному из 20 классов, каждый класс соответствует определенной новостной тематике. В качестве метрики качества будем использовать $accuracy\\_score$. Accuracy - это доля верно классифицированных объектов, среди всех объектов выборки."
      ]
    },
    {
      "cell_type": "code",
      "metadata": {
        "id": "ORqIaT0K_B_s"
      },
      "source": [
        "from sklearn.datasets import fetch_20newsgroups\n",
        "from sklearn.feature_extraction.text import CountVectorizer, TfidfVectorizer\n",
        "from sklearn.model_selection import KFold"
      ],
      "execution_count": 125,
      "outputs": []
    },
    {
      "cell_type": "code",
      "metadata": {
        "id": "PEjS0cbH_B_s"
      },
      "source": [
        "X_train, y_train = fetch_20newsgroups(subset='train', return_X_y=True, random_state=42)\n",
        "X_test, y_test = fetch_20newsgroups(subset='test', return_X_y=True, random_state=42)\n",
        "X_train = np.array(X_train)\n",
        "X_test = np.array(X_test)\n",
        "y_train = np.array(y_train)\n",
        "y_test = np.array(y_test)"
      ],
      "execution_count": 126,
      "outputs": []
    },
    {
      "cell_type": "code",
      "metadata": {
        "id": "NjAFG0bw_B_s",
        "colab": {
          "base_uri": "https://localhost:8080/"
        },
        "outputId": "a2eb6360-49c5-4c40-8fbc-ac6abcd2fd86"
      },
      "source": [
        "print(X_train[0])"
      ],
      "execution_count": 127,
      "outputs": [
        {
          "output_type": "stream",
          "name": "stdout",
          "text": [
            "From: lerxst@wam.umd.edu (where's my thing)\n",
            "Subject: WHAT car is this!?\n",
            "Nntp-Posting-Host: rac3.wam.umd.edu\n",
            "Organization: University of Maryland, College Park\n",
            "Lines: 15\n",
            "\n",
            " I was wondering if anyone out there could enlighten me on this car I saw\n",
            "the other day. It was a 2-door sports car, looked to be from the late 60s/\n",
            "early 70s. It was called a Bricklin. The doors were really small. In addition,\n",
            "the front bumper was separate from the rest of the body. This is \n",
            "all I know. If anyone can tellme a model name, engine specs, years\n",
            "of production, where this car is made, history, or whatever info you\n",
            "have on this funky looking car, please e-mail.\n",
            "\n",
            "Thanks,\n",
            "- IL\n",
            "   ---- brought to you by your neighborhood Lerxst ----\n",
            "\n",
            "\n",
            "\n",
            "\n",
            "\n"
          ]
        }
      ]
    },
    {
      "cell_type": "markdown",
      "metadata": {
        "id": "v52EURe__B_t"
      },
      "source": [
        "Как мы видим, объектами обучающей выборки являются тексты. Сырые текстовые данные не могут служить обучающими примерами для алгоритма $KNN$. Перед использованием $KNN$ текстовые данные переменной длины необходимо отобразить в метрическое пространство фиксированной размерности.\n",
        "\n",
        "Работа с текстовыми данными проходит в несколько этапов.\n",
        "\n",
        "* **Токенизация.** Текстовая строка делится на токены. Как правило, в качестве токенов выступают отдельные слова и знаки препинания.\n",
        "\n",
        "* **Нормализация.** Приведение к нижнему регистру, удаление стоп-слов, удаление пунктуации, удаление редких и частотных слов и т.д.\n",
        "\n",
        "* **Векторизация.** Фиксируется словарь токенов $V$ по **обучающей** выборке. Текст представлется в виде вектора длиной $|V|$, где каждый признак есть функция от частоты встречаемости токена в тексте и в обучающей выборке.\n",
        "\n",
        "В данном задании будет использовано два вида векторизации. Первый, $CountVectorizer$, сопоставляет каждому токену частоту встречаемости этого токена в тексте документа. Второй, $TfidfVectorizer$, сопоставляет каждому токену частоту встречаемости этого токена в тексте документа умноженную на величину обратно пропорциональную частоте встречаемости токена во всех документах **обучающей** выборки. Подробне про $tf-idf$ можно прочитать [здесь](https://ru.wikipedia.org/wiki/TF-IDF)."
      ]
    },
    {
      "cell_type": "markdown",
      "metadata": {
        "id": "gJy_w1Yx_B_t"
      },
      "source": [
        "В sklearn все векторизаторы автоматически токенизируют текст и приводят его к нижнему регистру. Параметры $max\\_df$ и $min\\_df$ позволяют убрать из словаря наиболее частые и наиболее редкие токены. Параметр $stop\\_words$ позволяет убрать из словаря стоп-слова (малоинформативные слова для данного языка, например, союзы)."
      ]
    },
    {
      "cell_type": "code",
      "metadata": {
        "id": "dY06iwQG_B_t",
        "colab": {
          "base_uri": "https://localhost:8080/"
        },
        "outputId": "77f9bad3-5a92-43fa-85f0-f3b9b3bb6a0f"
      },
      "source": [
        "count_vec = CountVectorizer(max_df=0.8, min_df=10, stop_words='english')\n",
        "tf_idf = TfidfVectorizer(max_df=0.8, min_df=10, stop_words='english')\n",
        "print(count_vec)\n",
        "print(tf_idf)"
      ],
      "execution_count": 128,
      "outputs": [
        {
          "output_type": "stream",
          "name": "stdout",
          "text": [
            "CountVectorizer(analyzer='word', binary=False, decode_error='strict',\n",
            "                dtype=<class 'numpy.int64'>, encoding='utf-8', input='content',\n",
            "                lowercase=True, max_df=0.8, max_features=None, min_df=10,\n",
            "                ngram_range=(1, 1), preprocessor=None, stop_words='english',\n",
            "                strip_accents=None, token_pattern='(?u)\\\\b\\\\w\\\\w+\\\\b',\n",
            "                tokenizer=None, vocabulary=None)\n",
            "TfidfVectorizer(analyzer='word', binary=False, decode_error='strict',\n",
            "                dtype=<class 'numpy.float64'>, encoding='utf-8',\n",
            "                input='content', lowercase=True, max_df=0.8, max_features=None,\n",
            "                min_df=10, ngram_range=(1, 1), norm='l2', preprocessor=None,\n",
            "                smooth_idf=True, stop_words='english', strip_accents=None,\n",
            "                sublinear_tf=False, token_pattern='(?u)\\\\b\\\\w\\\\w+\\\\b',\n",
            "                tokenizer=None, use_idf=True, vocabulary=None)\n"
          ]
        }
      ]
    },
    {
      "cell_type": "markdown",
      "metadata": {
        "id": "8-VZlXou_B_t"
      },
      "source": [
        "**Задание 3.1** (кросс, 2 балла) Найдите оптимальные параметры обучения модели. Осуществлять перебор параметров следует по заданной ниже сетке. Используйте реализованные вами функции $kfold\\_split$, $knn\\_cv\\_score$. В качестве метрики используйте $accuracy\\_score$."
      ]
    },
    {
      "cell_type": "code",
      "metadata": {
        "id": "Vb0zjrXV_B_t"
      },
      "source": [
        "from sklearn.metrics import accuracy_score\n",
        "\n",
        "parameters = {\n",
        "    'n_neighbors': [i for i in range(1, 11)],\n",
        "    'metrics': ['euclidean', 'cosine'],\n",
        "    'weights': ['uniform', 'distance'],\n",
        "    'normalizers': [(count_vec, 'CountVectorizer'), (tf_idf, 'TfidfVectorizer')]\n",
        "}"
      ],
      "execution_count": 122,
      "outputs": []
    },
    {
      "cell_type": "code",
      "metadata": {
        "id": "8ph8FCcw_B_t",
        "colab": {
          "base_uri": "https://localhost:8080/"
        },
        "outputId": "8aaa8731-d28d-49e7-ae46-eac9d19e7f76"
      },
      "source": [
        "%%shell\n",
        "jupyter nbconvert --to html /content/KNN.ipynb"
      ],
      "execution_count": 133,
      "outputs": [
        {
          "output_type": "stream",
          "name": "stdout",
          "text": [
            "KNN:\n"
          ]
        },
        {
          "output_type": "execute_result",
          "data": {
            "text/plain": [
              ""
            ]
          },
          "metadata": {},
          "execution_count": 133
        }
      ]
    },
    {
      "cell_type": "markdown",
      "metadata": {
        "id": "gqY2eUz0_B_u"
      },
      "source": [
        "**Задание 3.2** (кросс, 2 балла) Какой метод предобработки данных в среднем дает наилучший результат? Почему?"
      ]
    },
    {
      "cell_type": "code",
      "metadata": {
        "id": "9DRY9y-A_B_u"
      },
      "source": [
        "# ваш код"
      ],
      "execution_count": null,
      "outputs": []
    },
    {
      "cell_type": "markdown",
      "metadata": {
        "id": "FcD8Nq-F_B_u"
      },
      "source": [
        "ВАШ ОТВЕТ"
      ]
    },
    {
      "cell_type": "markdown",
      "metadata": {
        "id": "eJwTNc9g_B_u"
      },
      "source": [
        "**Задание 3.3** (кросс, 2 балла) Какая метрика близости позволяет в среднем достичь наилучшее качество? Почему?"
      ]
    },
    {
      "cell_type": "code",
      "metadata": {
        "id": "MQLqQhOS_B_u"
      },
      "source": [
        "# ваш код"
      ],
      "execution_count": null,
      "outputs": []
    },
    {
      "cell_type": "markdown",
      "metadata": {
        "id": "9jdrxs-Z_B_u"
      },
      "source": [
        "ВАШ ОТВЕТ"
      ]
    },
    {
      "cell_type": "markdown",
      "metadata": {
        "id": "9hUdwU-U_B_u"
      },
      "source": [
        "**Задание 3.4** (кросс, 2 балла) Начертите график зависимости метрики качества от числа соседей. Метрику следует усреднить по всем параматрам, кроме числа соседей. Сделайте выводы о наблюдаемых зависимостях (возможно будет полезным ознакомиться с названиями классов)"
      ]
    },
    {
      "cell_type": "code",
      "metadata": {
        "id": "63KPbBvM_B_v"
      },
      "source": [
        "# ваш код"
      ],
      "execution_count": null,
      "outputs": []
    },
    {
      "cell_type": "markdown",
      "metadata": {
        "id": "edRhAjYo_B_v"
      },
      "source": [
        "ВАШ ОТВЕТ"
      ]
    },
    {
      "cell_type": "markdown",
      "metadata": {
        "id": "KJKVZwe6_B_v"
      },
      "source": [
        "**Задание 3.5** (кросс, 3 балла) Оцените точность вашей лучшей модели на тестовой части датасета. Отличается ли оно от качества, полученного на кросс-валидации? Почему?"
      ]
    },
    {
      "cell_type": "code",
      "metadata": {
        "id": "ZaIHF0e6_B_v"
      },
      "source": [
        "#ваш код"
      ],
      "execution_count": null,
      "outputs": []
    },
    {
      "cell_type": "markdown",
      "metadata": {
        "id": "LR0NThPC_B_v"
      },
      "source": [
        "ВАШ ОТВЕТ"
      ]
    },
    {
      "cell_type": "markdown",
      "metadata": {
        "id": "H-fjfmov_B_v"
      },
      "source": [
        "**(!)** А теперь перезапустите ноутбук: Kernel -> Restart & Run All"
      ]
    }
  ]
}